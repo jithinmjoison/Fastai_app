{
  "nbformat": 4,
  "nbformat_minor": 0,
  "metadata": {
    "colab": {
      "provenance": [],
      "machine_shape": "hm",
      "authorship_tag": "ABX9TyOVq/hv+yg5tDvPd49R7HK7",
      "include_colab_link": true
    },
    "kernelspec": {
      "name": "python3",
      "display_name": "Python 3"
    },
    "language_info": {
      "name": "python"
    },
    "gpuClass": "standard",
    "accelerator": "GPU"
  },
  "cells": [
    {
      "cell_type": "markdown",
      "metadata": {
        "id": "view-in-github",
        "colab_type": "text"
      },
      "source": [
        "<a href=\"https://colab.research.google.com/github/jithinmjoison/Fastai_app/blob/main/Implementation_Backpropagation_scratch.ipynb\" target=\"_parent\"><img src=\"https://colab.research.google.com/assets/colab-badge.svg\" alt=\"Open In Colab\"/></a>"
      ]
    },
    {
      "cell_type": "code",
      "execution_count": 2,
      "metadata": {
        "id": "WRm7VX98AiD1"
      },
      "outputs": [],
      "source": [
        "import pickle,gzip,math,os,time,shutil,torch,matplotlib as mpl, numpy as np\n",
        "from pathlib import Path\n",
        "from torch import tensor\n",
        "from fastcore.test import test_close\n",
        "torch.manual_seed(42)\n",
        "\n",
        "mpl.rcParams['image.cmap'] = 'gray'\n",
        "torch.set_printoptions(precision=2, linewidth=125, sci_mode=False)\n",
        "np.set_printoptions(precision=2, linewidth=125)\n",
        "\n"
      ]
    },
    {
      "cell_type": "code",
      "source": [
        "from pathlib import Path\n",
        "import pickle, gzip, math, os, time, shutil, matplotlib as mpl, matplotlib.pyplot as plt"
      ],
      "metadata": {
        "id": "WJJvveqNLPbO"
      },
      "execution_count": 3,
      "outputs": []
    },
    {
      "cell_type": "code",
      "source": [
        "\n",
        "MNIST_URL='https://github.com/mnielsen/neural-networks-and-deep-learning/blob/master/data/mnist.pkl.gz?raw=true'\n",
        "path_data = Path('data')\n",
        "path_data.mkdir(exist_ok=True)\n",
        "path_gz = path_data/'mnist.pkl.gz'"
      ],
      "metadata": {
        "id": "3FSUkXqrLXdm"
      },
      "execution_count": 4,
      "outputs": []
    },
    {
      "cell_type": "code",
      "source": [
        "from urllib.request import urlretrieve\n",
        "if not path_gz.exists(): urlretrieve(MNIST_URL, path_gz)"
      ],
      "metadata": {
        "id": "U54u-dKHLvSw"
      },
      "execution_count": 5,
      "outputs": []
    },
    {
      "cell_type": "code",
      "source": [
        "with gzip.open(path_gz, 'rb') as f: ((x_train, y_train), (x_valid, y_valid), _) = pickle.load(f, encoding='latin-1')"
      ],
      "metadata": {
        "id": "MaywT5UtCdWM"
      },
      "execution_count": 6,
      "outputs": []
    },
    {
      "cell_type": "code",
      "source": [
        "path_data = Path('data')\n",
        "path_gz = path_data/'mnist.pkl.gz'\n",
        "with gzip.open(path_gz, 'rb') as f: ((x_train, y_train), (x_valid, y_valid), _) = pickle.load(f, encoding='latin-1')\n",
        "x_train, y_train, x_valid, y_valid = map(tensor, [x_train, y_train, x_valid, y_valid])"
      ],
      "metadata": {
        "id": "6vAfnV4uCwtx"
      },
      "execution_count": 7,
      "outputs": []
    },
    {
      "cell_type": "markdown",
      "source": [
        "Foundations Version "
      ],
      "metadata": {
        "id": "Q4X5sj0XYf10"
      }
    },
    {
      "cell_type": "code",
      "source": [
        "n,m = x_train.shape\n",
        "c = y_train.max()+1\n",
        "n,m,c"
      ],
      "metadata": {
        "colab": {
          "base_uri": "https://localhost:8080/"
        },
        "id": "-ffLP-L2YrPe",
        "outputId": "d05f5137-6f13-4563-d659-a547e9aec474"
      },
      "execution_count": 8,
      "outputs": [
        {
          "output_type": "execute_result",
          "data": {
            "text/plain": [
              "(50000, 784, tensor(10))"
            ]
          },
          "metadata": {},
          "execution_count": 8
        }
      ]
    },
    {
      "cell_type": "code",
      "source": [
        "# Hidden Layers for the neural network \n",
        "nh = 50"
      ],
      "metadata": {
        "id": "0b61TIqbY_bQ"
      },
      "execution_count": 9,
      "outputs": []
    },
    {
      "cell_type": "code",
      "source": [
        "# Defining the weights and Biases\n",
        "\n",
        "w1 = torch.randn(m,nh)\n",
        "b1 = torch.zeros(nh)\n",
        "w2 = torch.randn(nh,1)\n",
        "b2 = torch.zeros(1)"
      ],
      "metadata": {
        "id": "Q8dItjkqZA_I"
      },
      "execution_count": 11,
      "outputs": []
    },
    {
      "cell_type": "code",
      "source": [
        "# Defining the linear function for the linear layer\n",
        "\n",
        "def lin(x,w,b):\n",
        "  return x@w+b"
      ],
      "metadata": {
        "id": "QNTg0zrNZGHd"
      },
      "execution_count": 12,
      "outputs": []
    },
    {
      "cell_type": "code",
      "source": [
        "# testing the function to check the shape it returns\n",
        "\n",
        "t = lin(x_valid,w1,b1)\n",
        "t.shape"
      ],
      "metadata": {
        "colab": {
          "base_uri": "https://localhost:8080/"
        },
        "id": "gQy7YUuudjzt",
        "outputId": "d52ba200-af3e-48a1-81d7-ad9d2051e6e6"
      },
      "execution_count": 14,
      "outputs": [
        {
          "output_type": "execute_result",
          "data": {
            "text/plain": [
              "torch.Size([10000, 50])"
            ]
          },
          "metadata": {},
          "execution_count": 14
        }
      ]
    },
    {
      "cell_type": "code",
      "source": [
        "# Defining the RELU funtion \n",
        "def relu(x):\n",
        "  return x.clamp_min(0.)"
      ],
      "metadata": {
        "id": "cULSkmKmduZk"
      },
      "execution_count": 15,
      "outputs": []
    },
    {
      "cell_type": "code",
      "source": [
        "# Testing the RELU function \n",
        "\n",
        "t = relu(t)\n",
        "t"
      ],
      "metadata": {
        "colab": {
          "base_uri": "https://localhost:8080/"
        },
        "id": "ArgBdjCyd7OV",
        "outputId": "601bf5a7-dc75-449f-ee1e-41a08b97f6a1"
      },
      "execution_count": 16,
      "outputs": [
        {
          "output_type": "execute_result",
          "data": {
            "text/plain": [
              "tensor([[ 5.32,  0.00,  0.00,  ...,  5.52,  1.60,  0.00],\n",
              "        [ 4.60,  0.00,  0.00,  ..., 11.82,  0.00, 10.16],\n",
              "        [ 0.00,  0.00,  6.69,  ...,  1.20,  0.00,  0.00],\n",
              "        ...,\n",
              "        [10.28,  0.00,  1.61,  ...,  0.00,  0.00,  0.09],\n",
              "        [ 4.28,  0.00,  8.05,  ...,  0.00,  0.00,  0.00],\n",
              "        [ 8.67,  0.00,  0.00,  ...,  0.00,  1.46,  3.79]])"
            ]
          },
          "metadata": {},
          "execution_count": 16
        }
      ]
    },
    {
      "cell_type": "code",
      "source": [
        "# Definig the neural network model and the layers associated with it \n",
        "\n",
        "def model(xb):\n",
        "  l1 = lin(xb,w1,b1)\n",
        "  l2 = relu(l1)\n",
        "  return lin (l2,w2,b2)\n",
        "\n",
        "\n",
        "\n"
      ],
      "metadata": {
        "id": "_2WczUUeeDeo"
      },
      "execution_count": 17,
      "outputs": []
    },
    {
      "cell_type": "code",
      "source": [
        "#Checking the model function and implementing it \n",
        "res = model(x_valid)\n",
        "res.shape"
      ],
      "metadata": {
        "colab": {
          "base_uri": "https://localhost:8080/"
        },
        "id": "AA69C_VTe5dX",
        "outputId": "d80af60e-d4e8-49d5-850b-ce0ade157563"
      },
      "execution_count": 25,
      "outputs": [
        {
          "output_type": "execute_result",
          "data": {
            "text/plain": [
              "torch.Size([10000, 1])"
            ]
          },
          "metadata": {},
          "execution_count": 25
        }
      ]
    },
    {
      "cell_type": "code",
      "source": [
        "#Loss function MSE\n",
        "\n",
        "res.shape,y_valid.shape"
      ],
      "metadata": {
        "colab": {
          "base_uri": "https://localhost:8080/"
        },
        "id": "HEl379cjfCxH",
        "outputId": "ce2fe302-e7c2-412b-822d-2c620debdebe"
      },
      "execution_count": 19,
      "outputs": [
        {
          "output_type": "execute_result",
          "data": {
            "text/plain": [
              "(torch.Size([10000, 1]), torch.Size([10000]))"
            ]
          },
          "metadata": {},
          "execution_count": 19
        }
      ]
    },
    {
      "cell_type": "code",
      "source": [
        "res[:,0].shape , res.squeeze().shape"
      ],
      "metadata": {
        "colab": {
          "base_uri": "https://localhost:8080/"
        },
        "id": "GPtqFJ5efJ-3",
        "outputId": "ff0b8d18-acfc-460d-d4e0-563c8221a3f6"
      },
      "execution_count": 21,
      "outputs": [
        {
          "output_type": "execute_result",
          "data": {
            "text/plain": [
              "(torch.Size([10000]), torch.Size([10000]))"
            ]
          },
          "metadata": {},
          "execution_count": 21
        }
      ]
    },
    {
      "cell_type": "code",
      "source": [
        "(res[:,0]- y_valid).shape"
      ],
      "metadata": {
        "colab": {
          "base_uri": "https://localhost:8080/"
        },
        "id": "OVaDrj2qfQMw",
        "outputId": "9da705b9-2f3a-4dae-e6ab-181dc1061e80"
      },
      "execution_count": 24,
      "outputs": [
        {
          "output_type": "execute_result",
          "data": {
            "text/plain": [
              "torch.Size([10000])"
            ]
          },
          "metadata": {},
          "execution_count": 24
        }
      ]
    },
    {
      "cell_type": "code",
      "source": [
        "# Mapping y train and y_valid\n",
        "y_train, y_valid = y_train.float(),y_valid.float()\n",
        "\n",
        "preds = model(x_train)\n",
        "\n",
        "preds.shape"
      ],
      "metadata": {
        "colab": {
          "base_uri": "https://localhost:8080/"
        },
        "id": "Jx-PBUkdfbJn",
        "outputId": "018d0bc8-b1b1-4ca8-cd47-f097d320d236"
      },
      "execution_count": 26,
      "outputs": [
        {
          "output_type": "execute_result",
          "data": {
            "text/plain": [
              "torch.Size([50000, 1])"
            ]
          },
          "metadata": {},
          "execution_count": 26
        }
      ]
    },
    {
      "cell_type": "code",
      "source": [
        "# Defining a silly Loss function\n",
        "\n",
        "def mse(output, target):\n",
        "  return (output[:,0] - target).pow(2).mean()"
      ],
      "metadata": {
        "id": "SD9yMxGDf7sO"
      },
      "execution_count": 27,
      "outputs": []
    },
    {
      "cell_type": "code",
      "source": [
        "#testing the MSE\n",
        "mse(preds,y_train)"
      ],
      "metadata": {
        "colab": {
          "base_uri": "https://localhost:8080/"
        },
        "id": "Qeeul7_SgYh-",
        "outputId": "01a350dd-a9a0-4945-ce9c-4cba1c752c24"
      },
      "execution_count": 28,
      "outputs": [
        {
          "output_type": "execute_result",
          "data": {
            "text/plain": [
              "tensor(1676.63)"
            ]
          },
          "metadata": {},
          "execution_count": 28
        }
      ]
    },
    {
      "cell_type": "code",
      "source": [
        "#Gradients and backward pass. We are manually defining the Gradient for x^2\n",
        "\n",
        "def lin_grad(inp, out, w, b):\n",
        "# gradient of matrixmultiplication with respect to input \n",
        "  inp.g = out.g @ w.t()\n",
        "  w.g = (inp.unsqueeze(-1) * out.g.unsqueeze(1)).sum(0)\n",
        "  b.g = out.g.sum(0)\n"
      ],
      "metadata": {
        "id": "8rtXVCibgjX5"
      },
      "execution_count": 33,
      "outputs": []
    },
    {
      "cell_type": "code",
      "source": [
        "def forward_and_backward(inp,targ):\n",
        "  # forward pass\n",
        "  l1 = lin(inp,w1, b1)\n",
        "  l2 = relu(l1)\n",
        "  out = lin(l2,w2,b2)\n",
        "  diff = out[:,0]- targ\n",
        "  loss = diff.pow(2).mean()\n",
        "\n",
        "  #backward pass:\n",
        "\n",
        "  out.g = 2. * diff[:,None]/inp.shape[0]\n",
        "  lin_grad(l2, out,w2, b2)\n",
        "  l1.g = (l1>0).float() * l2.g\n",
        "  lin_grad(inp, l1, w1,b1)\n"
      ],
      "metadata": {
        "id": "4R4EwghyhU7o"
      },
      "execution_count": 34,
      "outputs": []
    },
    {
      "cell_type": "code",
      "source": [
        "#Testing backward and forward with x_train and y_train\n",
        "forward_and_backward(x_train, y_train)\n"
      ],
      "metadata": {
        "id": "eN4BFCvUi3HK"
      },
      "execution_count": 36,
      "outputs": []
    },
    {
      "cell_type": "code",
      "source": [
        "# Refactor Model Layers as classes\n",
        "\n",
        "class Relu():\n",
        "    def __call__(self, inp):\n",
        "      self.inp = inp\n",
        "      self.out = inp.clamp_min(0.)\n",
        "      return self.out\n",
        "\n",
        "    def backward(self): self.inp.g = (self.inp>0).float() * self.out.g\n"
      ],
      "metadata": {
        "id": "gnnUwdD4i78D"
      },
      "execution_count": 54,
      "outputs": []
    },
    {
      "cell_type": "code",
      "source": [
        "class Lin():\n",
        "    def __init__(self,w,b):\n",
        "        self.w = w\n",
        "        self.b = b\n",
        "    \n",
        "    def __call__(self, inp):\n",
        "        self.inp = inp\n",
        "        self.out = lin(inp, self.w, self.b)\n",
        "        return self.out\n",
        "\n",
        "    def backward(self):\n",
        "        self.inp.g = self.out.g @ self.w.t()\n",
        "        self.w.g = self.inp.t() @ self.out.g\n",
        "        self.b.g = self.out.g.sum(0)\n",
        "\n",
        "  \n"
      ],
      "metadata": {
        "id": "AcXYrOftkpmM"
      },
      "execution_count": 55,
      "outputs": []
    },
    {
      "cell_type": "code",
      "source": [
        "class Mse():\n",
        "      def __call__(self, inp , targ):\n",
        "          self.inp = inp\n",
        "          self.targ = targ\n",
        "          self.out = mse(inp , targ)\n",
        "          return self.out\n",
        "\n",
        "      def backward(self):\n",
        "           self.inp.g = 2. * (self.inp.squeeze() - self.targ).unsqueeze(-1) / self.targ.shape[0]\n",
        " \n",
        "\n",
        "\n",
        "    \n",
        "\n"
      ],
      "metadata": {
        "id": "VGPUoh6Qlyaa"
      },
      "execution_count": 56,
      "outputs": []
    },
    {
      "cell_type": "code",
      "source": [
        "class Model():\n",
        "    def __init__(self, w1, b1, w2, b2):\n",
        "        self.layers = [Lin(w1,b1), Relu(), Lin(w2,b2)]\n",
        "        self.loss = Mse()\n",
        "        \n",
        "    def __call__(self, x, targ):\n",
        "        for l in self.layers: x = l(x)\n",
        "        return self.loss(x, targ)\n",
        "    \n",
        "    def backward(self):\n",
        "        self.loss.backward()\n",
        "        for l in reversed(self.layers): l.backward()"
      ],
      "metadata": {
        "id": "yemtvbOAmqVf"
      },
      "execution_count": 57,
      "outputs": []
    },
    {
      "cell_type": "code",
      "source": [
        "model = Model(w1, b1, w2, b2)"
      ],
      "metadata": {
        "id": "B5OOW62gm_81"
      },
      "execution_count": 58,
      "outputs": []
    },
    {
      "cell_type": "code",
      "source": [
        "loss = model(x_train, y_train)"
      ],
      "metadata": {
        "id": "rRpIq6arnDLh"
      },
      "execution_count": 59,
      "outputs": []
    },
    {
      "cell_type": "code",
      "source": [
        "model.backward()"
      ],
      "metadata": {
        "id": "hpqhOQqjnFQo"
      },
      "execution_count": 60,
      "outputs": []
    },
    {
      "cell_type": "code",
      "source": [],
      "metadata": {
        "id": "BZQYisvdnH1N"
      },
      "execution_count": null,
      "outputs": []
    }
  ]
}