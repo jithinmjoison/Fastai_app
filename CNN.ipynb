{
  "nbformat": 4,
  "nbformat_minor": 0,
  "metadata": {
    "colab": {
      "provenance": [],
      "gpuType": "T4",
      "authorship_tag": "ABX9TyOPYSy9Fjs/lFXs2DYyfCDN",
      "include_colab_link": true
    },
    "kernelspec": {
      "name": "python3",
      "display_name": "Python 3"
    },
    "language_info": {
      "name": "python"
    },
    "accelerator": "GPU"
  },
  "cells": [
    {
      "cell_type": "markdown",
      "metadata": {
        "id": "view-in-github",
        "colab_type": "text"
      },
      "source": [
        "<a href=\"https://colab.research.google.com/github/jithinmjoison/Fastai_app/blob/main/CNN.ipynb\" target=\"_parent\"><img src=\"https://colab.research.google.com/assets/colab-badge.svg\" alt=\"Open In Colab\"/></a>"
      ]
    },
    {
      "cell_type": "code",
      "execution_count": 1,
      "metadata": {
        "id": "nFBqGpjEW1ET"
      },
      "outputs": [],
      "source": [
        "# this notebook to strat implementing and trainign a CNN\n",
        "\n",
        "from tensorflow.keras import layers, models\n",
        "\n",
        "input_layer = layers.Input(shape=(64,64,1))\n",
        "\n",
        "conv_layer_1 = layers.Conv2D(filters =2, kernel_size =(3,3),strides = 1, padding = \"same\")(input_layer)"
      ]
    },
    {
      "cell_type": "code",
      "source": [
        "## Code to build CNN using keras\n",
        "\n",
        "\n",
        "input_layer = layers.Input(shape =(32,32,3))\n",
        "\n",
        "conv_layer_1 = layers.Conv2D(filters = 10, kernel_size = (4,4), strides = 2, padding = \"same\")(input_layer)\n",
        "\n",
        "conv_layer_2 = layers.Conv2D(filters = 20, kernel_size = (3,3), strides = 2, padding = \"same\")(conv_layer_1)\n",
        "\n",
        "flatten_layer = layers.Flatten()(conv_layer_2)\n",
        "\n",
        "\n",
        "output_layer = layers.Dense(units = 10, activation = \"softmax\")(flatten_layer)\n",
        "\n",
        "model = models.Model(inputs = input_layer, outputs = output_layer)\n",
        "\n",
        "model.summary"
      ],
      "metadata": {
        "colab": {
          "base_uri": "https://localhost:8080/",
          "height": 204
        },
        "id": "_mB6EasViiRs",
        "outputId": "32145238-c7e2-488f-cb7d-7264d6e82d57"
      },
      "execution_count": 2,
      "outputs": [
        {
          "output_type": "execute_result",
          "data": {
            "text/plain": [
              "<bound method Model.summary of <keras.src.engine.functional.Functional object at 0x7b020bb817b0>>"
            ],
            "text/html": [
              "<div style=\"max-width:800px; border: 1px solid var(--colab-border-color);\"><style>\n",
              "      pre.function-repr-contents {\n",
              "        overflow-x: auto;\n",
              "        padding: 8px 12px;\n",
              "        max-height: 500px;\n",
              "      }\n",
              "\n",
              "      pre.function-repr-contents.function-repr-contents-collapsed {\n",
              "        cursor: pointer;\n",
              "        max-height: 100px;\n",
              "      }\n",
              "    </style>\n",
              "    <pre style=\"white-space: initial; background:\n",
              "         var(--colab-secondary-surface-color); padding: 8px 12px;\n",
              "         border-bottom: 1px solid var(--colab-border-color);\"><b>keras.src.engine.training.Model.summary</b><br/>def summary(line_length=None, positions=None, print_fn=None, expand_nested=False, show_trainable=False, layer_range=None)</pre><pre class=\"function-repr-contents function-repr-contents-collapsed\" style=\"\"><a class=\"filepath\" style=\"display:none\" href=\"#\">/usr/local/lib/python3.10/dist-packages/keras/src/engine/training.py</a>Prints a string summary of the network.\n",
              "\n",
              "Args:\n",
              "    line_length: Total length of printed lines\n",
              "        (e.g. set this to adapt the display to different\n",
              "        terminal window sizes).\n",
              "    positions: Relative or absolute positions of log elements\n",
              "        in each line. If not provided, becomes\n",
              "        `[0.3, 0.6, 0.70, 1.]`. Defaults to `None`.\n",
              "    print_fn: Print function to use. By default, prints to `stdout`.\n",
              "        If `stdout` doesn&#x27;t work in your environment, change to `print`.\n",
              "        It will be called on each line of the summary.\n",
              "        You can set it to a custom function\n",
              "        in order to capture the string summary.\n",
              "    expand_nested: Whether to expand the nested models.\n",
              "        Defaults to `False`.\n",
              "    show_trainable: Whether to show if a layer is trainable.\n",
              "        Defaults to `False`.\n",
              "    layer_range: a list or tuple of 2 strings,\n",
              "        which is the starting layer name and ending layer name\n",
              "        (both inclusive) indicating the range of layers to be printed\n",
              "        in summary. It also accepts regex patterns instead of exact\n",
              "        name. In such case, start predicate will be the first element\n",
              "        it matches to `layer_range[0]` and the end predicate will be\n",
              "        the last element it matches to `layer_range[1]`.\n",
              "        By default `None` which considers all layers of model.\n",
              "\n",
              "Raises:\n",
              "    ValueError: if `summary()` is called before the model is built.</pre>\n",
              "      <script>\n",
              "      if (google.colab.kernel.accessAllowed && google.colab.files && google.colab.files.view) {\n",
              "        for (const element of document.querySelectorAll('.filepath')) {\n",
              "          element.style.display = 'block'\n",
              "          element.onclick = (event) => {\n",
              "            event.preventDefault();\n",
              "            event.stopPropagation();\n",
              "            google.colab.files.view(element.textContent, 3466);\n",
              "          };\n",
              "        }\n",
              "      }\n",
              "      for (const element of document.querySelectorAll('.function-repr-contents')) {\n",
              "        element.onclick = (event) => {\n",
              "          event.preventDefault();\n",
              "          event.stopPropagation();\n",
              "          element.classList.toggle('function-repr-contents-collapsed');\n",
              "        };\n",
              "      }\n",
              "      </script>\n",
              "      </div>"
            ]
          },
          "metadata": {},
          "execution_count": 2
        }
      ]
    },
    {
      "cell_type": "code",
      "source": [
        "### Batch Normalisation ###\n",
        "\n",
        "\n",
        "from tensorflow.keras import layers\n",
        "layers.BatchNormalization(momentum = 0.9)\n"
      ],
      "metadata": {
        "colab": {
          "base_uri": "https://localhost:8080/"
        },
        "id": "okxn7y1ipCoA",
        "outputId": "9a1190ae-c383-40c7-bbdb-11a7279a5228"
      },
      "execution_count": 3,
      "outputs": [
        {
          "output_type": "execute_result",
          "data": {
            "text/plain": [
              "<keras.src.layers.normalization.batch_normalization.BatchNormalization at 0x7b020c44ff10>"
            ]
          },
          "metadata": {},
          "execution_count": 3
        }
      ]
    },
    {
      "cell_type": "code",
      "source": [
        "### Joining everything all together\n",
        "\n",
        "from tensorflow.keras import layers,models\n",
        "\n",
        "input_layer = layers.Input((32,32,3))\n",
        "\n",
        "x = layers.Conv2D(filters = 32, kernel_size = 3,  strides = 1 , padding = 'same')(input_layer)\n",
        "\n",
        "x = layers.BatchNormalization()(x)\n",
        "\n",
        "x = layers.LeakyReLU()(x)\n",
        "x = layers.Conv2D(filters = 32, kernel_size = 3,  strides = 2 , padding = 'same')(x)\n",
        "x = layers.BatchNormalization()(x)\n",
        "\n",
        "x = layers.LeakyReLU()(x)\n",
        "\n",
        "x = layers.Conv2D(filters = 64, kernel_size = 3,  strides = 1 , padding = 'same')(x)\n",
        "x = layers.BatchNormalization()(x)\n",
        "\n",
        "x = layers.LeakyReLU()(x)\n",
        "x = layers.Conv2D(filters = 64, kernel_size = 3,  strides = 2 , padding = 'same')(x)\n",
        "x = layers.BatchNormalization()(x)\n",
        "\n",
        "x = layers.LeakyReLU()(x)\n",
        "\n",
        "x= layers.Flatten()(x)\n",
        "\n",
        "x= layers.Dense(units = 128)(x)\n",
        "x = layers.BatchNormalization()(x)\n",
        "x = layers.LeakyReLU()(x)\n",
        "x = layers.Dropout(0.5)(x)\n",
        "\n",
        "output_layer = layers.Dense(units = 10, activation = \"softmax\")(x)\n",
        "model = models.Model(inputs = input_layer, outputs = output_layer)\n",
        "\n",
        "model = models.Model(inputs = input_layer, outputs = output_layer)\n",
        "\n",
        "x = layers.LeakyReLU()(x)\n",
        "\n",
        "output_layer = layers.Dense(units = 10, activation = \"softmax\")(x)\n",
        "\n",
        "model = models.Model(inputs = input_layer, outputs = output_layer)\n"
      ],
      "metadata": {
        "id": "PNR_Y3AAwwLK"
      },
      "execution_count": 4,
      "outputs": []
    },
    {
      "cell_type": "code",
      "source": [
        "#### Building CNN data for CIFAR Data ####\n",
        "import numpy as np\n",
        "from tensorflow.keras import layers, models, optimizers, utils, datasets\n"
      ],
      "metadata": {
        "id": "YFvzHLqAypDw"
      },
      "execution_count": 5,
      "outputs": []
    },
    {
      "cell_type": "code",
      "source": [
        "\n",
        "(x_train, y_train), (x_test, y_test) = datasets.cifar10.load_data()"
      ],
      "metadata": {
        "colab": {
          "base_uri": "https://localhost:8080/"
        },
        "id": "upvREigyzz6g",
        "outputId": "f8288cc0-6ba7-4e23-b499-6c250f28f2dc"
      },
      "execution_count": 6,
      "outputs": [
        {
          "output_type": "stream",
          "name": "stdout",
          "text": [
            "Downloading data from https://www.cs.toronto.edu/~kriz/cifar-10-python.tar.gz\n",
            "170498071/170498071 [==============================] - 2s 0us/step\n"
          ]
        }
      ]
    },
    {
      "cell_type": "code",
      "source": [
        "NUM_CLASSES = 10"
      ],
      "metadata": {
        "id": "q6zywQYQ1xB3"
      },
      "execution_count": 24,
      "outputs": []
    },
    {
      "cell_type": "code",
      "source": [
        "x_train = x_train.astype(\"float32\")/255\n",
        "x_test = x_test.astype(\"float32\")/255\n",
        "\n",
        "y_train = utils.to_categorical(y_train, 10)\n",
        "y_test = utils.to_categorical(y_test, 10)"
      ],
      "metadata": {
        "id": "HzGwvklSz_1i"
      },
      "execution_count": 25,
      "outputs": []
    },
    {
      "cell_type": "code",
      "source": [],
      "metadata": {
        "id": "BoCVh5KCwUgK"
      },
      "execution_count": 15,
      "outputs": []
    },
    {
      "cell_type": "code",
      "source": [
        "###Build the model\n",
        "\n",
        "input_layer =layers.Input(shape = (32,32,3))\n",
        "\n",
        "x = layers.Conv2D(filters = 32, kernel_size = 3, strides = 1 ,padding ='same') (input_layer)\n",
        "\n",
        "x = layers.BatchNormalization()(x)\n",
        "\n",
        "x = layers.LeakyReLU()(x)\n",
        "\n",
        "x = layers.Conv2D( filters = 32, kernel_size = 3, strides = 2, padding ='same') (x)\n",
        "\n",
        "x = layers.BatchNormalization()(x)\n",
        "\n",
        "x = layers.LeakyReLU()(x)\n",
        "x = layers.Conv2D(filters = 64, kernel_size = 3, strides = 1 ,padding ='same') (x)\n",
        "\n",
        "x = layers.Conv2D(filters = 64, kernel_size = 3, strides = 2 ,padding ='same') (x)\n",
        "\n",
        "x = layers.Conv2D(filters=64, kernel_size=3, strides=2, padding=\"same\")(x)\n",
        "x = layers.BatchNormalization()(x)\n",
        "x = layers.LeakyReLU()(x)\n",
        "x = layers.Flatten()(x)\n",
        "\n",
        "x = layers.Dense(128)(x)\n",
        "x = layers.BatchNormalization()(x)\n",
        "x = layers.LeakyReLU()(x)\n",
        "x = layers.Dropout(rate=0.5)(x)\n",
        "\n",
        "x= layers.Dense(NUM_CLASSES)(x)\n",
        "output_layer = layers.Activation(\"softmax\")(x)\n",
        "model = models.Model(input_layer, output_layer)\n",
        "model.summary()\n",
        "\n",
        "\n"
      ],
      "metadata": {
        "colab": {
          "base_uri": "https://localhost:8080/"
        },
        "id": "gIryqjBSwqRK",
        "outputId": "78ef0950-3d8a-4035-e805-fc873420daf5"
      },
      "execution_count": 27,
      "outputs": [
        {
          "output_type": "stream",
          "name": "stdout",
          "text": [
            "Model: \"model_6\"\n",
            "_________________________________________________________________\n",
            " Layer (type)                Output Shape              Param #   \n",
            "=================================================================\n",
            " input_7 (InputLayer)        [(None, 32, 32, 3)]       0         \n",
            "                                                                 \n",
            " conv2d_22 (Conv2D)          (None, 32, 32, 32)        896       \n",
            "                                                                 \n",
            " batch_normalization_18 (Ba  (None, 32, 32, 32)        128       \n",
            " tchNormalization)                                               \n",
            "                                                                 \n",
            " leaky_re_lu_18 (LeakyReLU)  (None, 32, 32, 32)        0         \n",
            "                                                                 \n",
            " conv2d_23 (Conv2D)          (None, 16, 16, 32)        9248      \n",
            "                                                                 \n",
            " batch_normalization_19 (Ba  (None, 16, 16, 32)        128       \n",
            " tchNormalization)                                               \n",
            "                                                                 \n",
            " leaky_re_lu_19 (LeakyReLU)  (None, 16, 16, 32)        0         \n",
            "                                                                 \n",
            " conv2d_24 (Conv2D)          (None, 16, 16, 64)        18496     \n",
            "                                                                 \n",
            " conv2d_25 (Conv2D)          (None, 8, 8, 64)          36928     \n",
            "                                                                 \n",
            " conv2d_26 (Conv2D)          (None, 4, 4, 64)          36928     \n",
            "                                                                 \n",
            " batch_normalization_20 (Ba  (None, 4, 4, 64)          256       \n",
            " tchNormalization)                                               \n",
            "                                                                 \n",
            " leaky_re_lu_20 (LeakyReLU)  (None, 4, 4, 64)          0         \n",
            "                                                                 \n",
            " flatten_5 (Flatten)         (None, 1024)              0         \n",
            "                                                                 \n",
            " dense_8 (Dense)             (None, 128)               131200    \n",
            "                                                                 \n",
            " batch_normalization_21 (Ba  (None, 128)               512       \n",
            " tchNormalization)                                               \n",
            "                                                                 \n",
            " leaky_re_lu_21 (LeakyReLU)  (None, 128)               0         \n",
            "                                                                 \n",
            " dropout_4 (Dropout)         (None, 128)               0         \n",
            "                                                                 \n",
            " dense_9 (Dense)             (None, 10)                1290      \n",
            "                                                                 \n",
            " activation_1 (Activation)   (None, 10)                0         \n",
            "                                                                 \n",
            "=================================================================\n",
            "Total params: 236010 (921.91 KB)\n",
            "Trainable params: 235498 (919.91 KB)\n",
            "Non-trainable params: 512 (2.00 KB)\n",
            "_________________________________________________________________\n"
          ]
        }
      ]
    },
    {
      "cell_type": "code",
      "source": [
        "### Train the model\n",
        "\n",
        "opt = optimizers.Adam(learning_rate=0.001)\n",
        "model.compile(optimizer=opt, loss=\"categorical_crossentropy\", metrics=[\"accuracy\"])"
      ],
      "metadata": {
        "id": "yaEDdD3owvzw"
      },
      "execution_count": 29,
      "outputs": []
    },
    {
      "cell_type": "code",
      "source": [
        "model.fit(x_train,y_train,batch_size =32, epochs = 10, shuffle = True , validation_data = (x_test, y_test))"
      ],
      "metadata": {
        "colab": {
          "base_uri": "https://localhost:8080/"
        },
        "id": "daWDsVnP0pYT",
        "outputId": "e7d3c7e1-becf-401a-fe1d-3387bc4b9c13"
      },
      "execution_count": null,
      "outputs": [
        {
          "output_type": "stream",
          "name": "stdout",
          "text": [
            "Epoch 1/10\n",
            "1563/1563 [==============================] - 16s 8ms/step - loss: 1.6183 - accuracy: 0.4252 - val_loss: 21.8775 - val_accuracy: 0.1000\n",
            "Epoch 2/10\n",
            "1563/1563 [==============================] - 11s 7ms/step - loss: 1.2061 - accuracy: 0.5740 - val_loss: 23.4267 - val_accuracy: 0.1000\n",
            "Epoch 3/10\n",
            "1563/1563 [==============================] - 11s 7ms/step - loss: 1.0547 - accuracy: 0.6283 - val_loss: 29.7727 - val_accuracy: 0.1000\n",
            "Epoch 4/10\n",
            "1563/1563 [==============================] - 12s 8ms/step - loss: 0.9770 - accuracy: 0.6553 - val_loss: 20.1841 - val_accuracy: 0.1119\n",
            "Epoch 5/10\n",
            "1563/1563 [==============================] - 12s 7ms/step - loss: 0.9269 - accuracy: 0.6749 - val_loss: 31.8208 - val_accuracy: 0.1000\n",
            "Epoch 6/10\n",
            "1563/1563 [==============================] - 12s 7ms/step - loss: 0.8833 - accuracy: 0.6909 - val_loss: 55.4607 - val_accuracy: 0.1000\n",
            "Epoch 7/10\n",
            "1563/1563 [==============================] - 11s 7ms/step - loss: 0.8501 - accuracy: 0.7033 - val_loss: 23.1491 - val_accuracy: 0.1000\n",
            "Epoch 8/10\n",
            "1563/1563 [==============================] - 11s 7ms/step - loss: 0.8240 - accuracy: 0.7127 - val_loss: 50.9564 - val_accuracy: 0.1111\n",
            "Epoch 9/10\n",
            "1563/1563 [==============================] - 12s 8ms/step - loss: 0.8006 - accuracy: 0.7214 - val_loss: 84.0179 - val_accuracy: 0.1119\n",
            "Epoch 10/10\n",
            " 643/1563 [===========>..................] - ETA: 5s - loss: 0.7785 - accuracy: 0.7288"
          ]
        }
      ]
    },
    {
      "cell_type": "code",
      "source": [],
      "metadata": {
        "id": "2ev6g6-k1O1l"
      },
      "execution_count": null,
      "outputs": []
    }
  ]
}