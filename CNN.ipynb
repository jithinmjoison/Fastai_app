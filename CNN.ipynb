{
  "nbformat": 4,
  "nbformat_minor": 0,
  "metadata": {
    "colab": {
      "provenance": [],
      "gpuType": "T4",
      "authorship_tag": "ABX9TyOLL9/1fHEl47G15XTqVt3X",
      "include_colab_link": true
    },
    "kernelspec": {
      "name": "python3",
      "display_name": "Python 3"
    },
    "language_info": {
      "name": "python"
    },
    "accelerator": "GPU"
  },
  "cells": [
    {
      "cell_type": "markdown",
      "metadata": {
        "id": "view-in-github",
        "colab_type": "text"
      },
      "source": [
        "<a href=\"https://colab.research.google.com/github/jithinmjoison/Fastai_app/blob/main/CNN.ipynb\" target=\"_parent\"><img src=\"https://colab.research.google.com/assets/colab-badge.svg\" alt=\"Open In Colab\"/></a>"
      ]
    },
    {
      "cell_type": "code",
      "execution_count": 5,
      "metadata": {
        "id": "nFBqGpjEW1ET"
      },
      "outputs": [],
      "source": [
        "# this notebook to strat implementing and trainign a CNN\n",
        "\n",
        "from tensorflow.keras import layers, models\n",
        "\n",
        "input_layer = layers.Input(shape=(64,64,1))\n",
        "\n",
        "conv_layer_1 = layers.Conv2D(filters =2, kernel_size =(3,3),strides = 1, padding = \"same\")(input_layer)"
      ]
    },
    {
      "cell_type": "code",
      "source": [
        "## Code to build CNN using keras\n",
        "\n",
        "\n",
        "input_layer = layers.Input(shape =(32,32,3))\n",
        "\n",
        "conv_layer_1 = layers.Conv2D(filters = 10, kernel_size = (4,4), strides = 2, padding = \"same\")(input_layer)\n",
        "\n",
        "conv_layer_2 = layers.Conv2D(filters = 20, kernel_size = (3,3), strides = 2, padding = \"same\")(conv_layer_1)\n",
        "\n",
        "flatten_layer = layers.Flatten()(conv_layer_2)\n",
        "\n",
        "\n",
        "output_layer = layers.Dense(units = 10, activation = \"softmax\")(flatten_layer)\n",
        "\n",
        "model = models.Model(inputs = input_layer, outputs = output_layer)\n",
        "\n",
        "model.summary"
      ],
      "metadata": {
        "colab": {
          "base_uri": "https://localhost:8080/",
          "height": 204
        },
        "id": "_mB6EasViiRs",
        "outputId": "d29872cb-4f9c-43d1-9ed1-279b1a4569f7"
      },
      "execution_count": 7,
      "outputs": [
        {
          "output_type": "execute_result",
          "data": {
            "text/plain": [
              "<bound method Model.summary of <keras.src.engine.functional.Functional object at 0x7aac9c1423b0>>"
            ],
            "text/html": [
              "<div style=\"max-width:800px; border: 1px solid var(--colab-border-color);\"><style>\n",
              "      pre.function-repr-contents {\n",
              "        overflow-x: auto;\n",
              "        padding: 8px 12px;\n",
              "        max-height: 500px;\n",
              "      }\n",
              "\n",
              "      pre.function-repr-contents.function-repr-contents-collapsed {\n",
              "        cursor: pointer;\n",
              "        max-height: 100px;\n",
              "      }\n",
              "    </style>\n",
              "    <pre style=\"white-space: initial; background:\n",
              "         var(--colab-secondary-surface-color); padding: 8px 12px;\n",
              "         border-bottom: 1px solid var(--colab-border-color);\"><b>keras.src.engine.training.Model.summary</b><br/>def summary(line_length=None, positions=None, print_fn=None, expand_nested=False, show_trainable=False, layer_range=None)</pre><pre class=\"function-repr-contents function-repr-contents-collapsed\" style=\"\"><a class=\"filepath\" style=\"display:none\" href=\"#\">/usr/local/lib/python3.10/dist-packages/keras/src/engine/training.py</a>Prints a string summary of the network.\n",
              "\n",
              "Args:\n",
              "    line_length: Total length of printed lines\n",
              "        (e.g. set this to adapt the display to different\n",
              "        terminal window sizes).\n",
              "    positions: Relative or absolute positions of log elements\n",
              "        in each line. If not provided, becomes\n",
              "        `[0.3, 0.6, 0.70, 1.]`. Defaults to `None`.\n",
              "    print_fn: Print function to use. By default, prints to `stdout`.\n",
              "        If `stdout` doesn&#x27;t work in your environment, change to `print`.\n",
              "        It will be called on each line of the summary.\n",
              "        You can set it to a custom function\n",
              "        in order to capture the string summary.\n",
              "    expand_nested: Whether to expand the nested models.\n",
              "        Defaults to `False`.\n",
              "    show_trainable: Whether to show if a layer is trainable.\n",
              "        Defaults to `False`.\n",
              "    layer_range: a list or tuple of 2 strings,\n",
              "        which is the starting layer name and ending layer name\n",
              "        (both inclusive) indicating the range of layers to be printed\n",
              "        in summary. It also accepts regex patterns instead of exact\n",
              "        name. In such case, start predicate will be the first element\n",
              "        it matches to `layer_range[0]` and the end predicate will be\n",
              "        the last element it matches to `layer_range[1]`.\n",
              "        By default `None` which considers all layers of model.\n",
              "\n",
              "Raises:\n",
              "    ValueError: if `summary()` is called before the model is built.</pre>\n",
              "      <script>\n",
              "      if (google.colab.kernel.accessAllowed && google.colab.files && google.colab.files.view) {\n",
              "        for (const element of document.querySelectorAll('.filepath')) {\n",
              "          element.style.display = 'block'\n",
              "          element.onclick = (event) => {\n",
              "            event.preventDefault();\n",
              "            event.stopPropagation();\n",
              "            google.colab.files.view(element.textContent, 3466);\n",
              "          };\n",
              "        }\n",
              "      }\n",
              "      for (const element of document.querySelectorAll('.function-repr-contents')) {\n",
              "        element.onclick = (event) => {\n",
              "          event.preventDefault();\n",
              "          event.stopPropagation();\n",
              "          element.classList.toggle('function-repr-contents-collapsed');\n",
              "        };\n",
              "      }\n",
              "      </script>\n",
              "      </div>"
            ]
          },
          "metadata": {},
          "execution_count": 7
        }
      ]
    },
    {
      "cell_type": "code",
      "source": [
        "### Batch Normalisation ###\n",
        "\n",
        "\n",
        "from tensorflow.keras import layers\n",
        "layers.BatchNormalization(momentum = 0.9)\n"
      ],
      "metadata": {
        "colab": {
          "base_uri": "https://localhost:8080/"
        },
        "id": "okxn7y1ipCoA",
        "outputId": "699941ce-ef40-405e-cd11-a9087c8c62fc"
      },
      "execution_count": 8,
      "outputs": [
        {
          "output_type": "execute_result",
          "data": {
            "text/plain": [
              "<keras.src.layers.normalization.batch_normalization.BatchNormalization at 0x7aad0d212e00>"
            ]
          },
          "metadata": {},
          "execution_count": 8
        }
      ]
    },
    {
      "cell_type": "code",
      "source": [
        "### Joining everything all together"
      ],
      "metadata": {
        "id": "PNR_Y3AAwwLK"
      },
      "execution_count": null,
      "outputs": []
    }
  ]
}