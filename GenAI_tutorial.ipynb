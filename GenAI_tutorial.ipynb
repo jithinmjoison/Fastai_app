{
  "nbformat": 4,
  "nbformat_minor": 0,
  "metadata": {
    "colab": {
      "provenance": [],
      "authorship_tag": "ABX9TyP4ateOfLeZmUgdjFNs2Nni",
      "include_colab_link": true
    },
    "kernelspec": {
      "name": "python3",
      "display_name": "Python 3"
    },
    "language_info": {
      "name": "python"
    }
  },
  "cells": [
    {
      "cell_type": "markdown",
      "metadata": {
        "id": "view-in-github",
        "colab_type": "text"
      },
      "source": [
        "<a href=\"https://colab.research.google.com/github/jithinmjoison/Fastai_app/blob/main/GenAI_tutorial.ipynb\" target=\"_parent\"><img src=\"https://colab.research.google.com/assets/colab-badge.svg\" alt=\"Open In Colab\"/></a>"
      ]
    },
    {
      "cell_type": "code",
      "execution_count": 1,
      "metadata": {
        "id": "gqBdEaXXKhsa"
      },
      "outputs": [],
      "source": [
        "import numpy as np"
      ]
    },
    {
      "cell_type": "code",
      "source": [
        "from tensorflow.keras import datasets, utils"
      ],
      "metadata": {
        "id": "Jh5cRXgLKsbW"
      },
      "execution_count": 2,
      "outputs": []
    },
    {
      "cell_type": "code",
      "source": [
        "(x_train, y_train), (x_test, y_test) = datasets.cifar10.load_data()"
      ],
      "metadata": {
        "colab": {
          "base_uri": "https://localhost:8080/"
        },
        "id": "HBe8Xt4lK17D",
        "outputId": "be536ee5-7896-413e-99d3-1f5124679dc1"
      },
      "execution_count": 3,
      "outputs": [
        {
          "output_type": "stream",
          "name": "stdout",
          "text": [
            "Downloading data from https://www.cs.toronto.edu/~kriz/cifar-10-python.tar.gz\n",
            "170498071/170498071 [==============================] - 2s 0us/step\n"
          ]
        }
      ]
    },
    {
      "cell_type": "code",
      "source": [
        "x_train = x_train / 255\n",
        "x_test = x_test / 255"
      ],
      "metadata": {
        "id": "VKC4grYwMA0B"
      },
      "execution_count": 4,
      "outputs": []
    },
    {
      "cell_type": "code",
      "source": [
        "y_train = utils.to_categorical(y_train, 10)\n",
        "y_test = utils.to_categorical(y_test, 10)"
      ],
      "metadata": {
        "id": "harozh25MvrY"
      },
      "execution_count": 5,
      "outputs": []
    },
    {
      "cell_type": "code",
      "source": [
        "## Creating MLP using Sequential Model in Keras\n",
        "\n",
        "from tensorflow.keras import layers, models\n",
        "\n",
        "model = models.Sequential([layers.Flatten(input_shape=(32,32,3)),\n",
        "                            layers.Dense(200, activation ='relu'),\n",
        "                           layers.Dense(150,activation ='relu'),\n",
        "                           layers.Dense(10, activation ='softmax')])"
      ],
      "metadata": {
        "id": "-Fk1s1JvNDlI"
      },
      "execution_count": 7,
      "outputs": []
    },
    {
      "cell_type": "code",
      "source": [
        "### Creating MLP using function API in keras\n",
        "\n",
        "from tensorflow.keras import layers, models\n",
        "\n",
        "input_layer = layers.Input(shape=(32,32,3))\n",
        "x = layers.Flatten()(input_layer)\n",
        "x = layers.Dense(200, activation ='relu')(x)\n",
        "x = layers.Dense(150,activation ='relu')(x)\n",
        "output_layer = layers.Dense(10, activation ='softmax')(x)\n",
        "model = models.Model(input_layer, output_layer)"
      ],
      "metadata": {
        "id": "Iz915ZwTHL2o"
      },
      "execution_count": 12,
      "outputs": []
    },
    {
      "cell_type": "code",
      "source": [
        "model.summary()"
      ],
      "metadata": {
        "colab": {
          "base_uri": "https://localhost:8080/"
        },
        "id": "GttOCfasIFaL",
        "outputId": "1e6e4515-2a56-4ec3-df43-bfdc55634c7c"
      },
      "execution_count": 13,
      "outputs": [
        {
          "output_type": "stream",
          "name": "stdout",
          "text": [
            "Model: \"model\"\n",
            "_________________________________________________________________\n",
            " Layer (type)                Output Shape              Param #   \n",
            "=================================================================\n",
            " input_3 (InputLayer)        [(None, 32, 32, 3)]       0         \n",
            "                                                                 \n",
            " flatten_3 (Flatten)         (None, 3072)              0         \n",
            "                                                                 \n",
            " dense_8 (Dense)             (None, 200)               614600    \n",
            "                                                                 \n",
            " dense_9 (Dense)             (None, 150)               30150     \n",
            "                                                                 \n",
            " dense_10 (Dense)            (None, 10)                1510      \n",
            "                                                                 \n",
            "=================================================================\n",
            "Total params: 646260 (2.47 MB)\n",
            "Trainable params: 646260 (2.47 MB)\n",
            "Non-trainable params: 0 (0.00 Byte)\n",
            "_________________________________________________________________\n"
          ]
        }
      ]
    },
    {
      "cell_type": "code",
      "source": [
        "### Compiling the model\n",
        "\n",
        "\n",
        "from tensorflow.keras import optimizers\n",
        "\n",
        "opt = optimizers.Adam(learning_rate =0.0005)\n",
        "model.compile(loss= 'categorical_crossentropy', optimizer =opt , metrics =['accuracy'])\n",
        "\n",
        "\n",
        "\n",
        "\n"
      ],
      "metadata": {
        "id": "S0Jaj6tDJbcY"
      },
      "execution_count": 18,
      "outputs": []
    },
    {
      "cell_type": "code",
      "source": [
        "\n",
        "### training the model\n",
        "\n",
        "model.fit(x_train, y_train, epochs=10, batch_size=32,shuffle=True)"
      ],
      "metadata": {
        "colab": {
          "base_uri": "https://localhost:8080/"
        },
        "id": "U86OY5ayRZmQ",
        "outputId": "8713902b-24fb-493c-8b8e-55844e9d1785"
      },
      "execution_count": 19,
      "outputs": [
        {
          "output_type": "stream",
          "name": "stdout",
          "text": [
            "Epoch 1/10\n",
            "1563/1563 [==============================] - 23s 14ms/step - loss: 1.8504 - accuracy: 0.3325\n",
            "Epoch 2/10\n",
            "1563/1563 [==============================] - 19s 12ms/step - loss: 1.6739 - accuracy: 0.4000\n",
            "Epoch 3/10\n",
            "1563/1563 [==============================] - 20s 13ms/step - loss: 1.5953 - accuracy: 0.4320\n",
            "Epoch 4/10\n",
            "1563/1563 [==============================] - 18s 11ms/step - loss: 1.5415 - accuracy: 0.4525\n",
            "Epoch 5/10\n",
            "1563/1563 [==============================] - 20s 13ms/step - loss: 1.5026 - accuracy: 0.4664\n",
            "Epoch 6/10\n",
            "1563/1563 [==============================] - 18s 12ms/step - loss: 1.4739 - accuracy: 0.4738\n",
            "Epoch 7/10\n",
            "1563/1563 [==============================] - 18s 11ms/step - loss: 1.4430 - accuracy: 0.4840\n",
            "Epoch 8/10\n",
            "1563/1563 [==============================] - 18s 12ms/step - loss: 1.4179 - accuracy: 0.4944\n",
            "Epoch 9/10\n",
            "1563/1563 [==============================] - 19s 12ms/step - loss: 1.4000 - accuracy: 0.4978\n",
            "Epoch 10/10\n",
            "1563/1563 [==============================] - 18s 11ms/step - loss: 1.3819 - accuracy: 0.5077\n"
          ]
        },
        {
          "output_type": "execute_result",
          "data": {
            "text/plain": [
              "<keras.src.callbacks.History at 0x7d9bd22e3310>"
            ]
          },
          "metadata": {},
          "execution_count": 19
        }
      ]
    },
    {
      "cell_type": "code",
      "source": [
        "#Evaluating the model\n",
        "\n",
        "model.evaluate(x_test, y_test)\n",
        "\n",
        "\n"
      ],
      "metadata": {
        "colab": {
          "base_uri": "https://localhost:8080/"
        },
        "id": "lzyHRCwOSer5",
        "outputId": "fa8e4c14-3989-4fd3-a572-defd80af1845"
      },
      "execution_count": 20,
      "outputs": [
        {
          "output_type": "stream",
          "name": "stdout",
          "text": [
            "313/313 [==============================] - 1s 4ms/step - loss: 1.4464 - accuracy: 0.4874\n"
          ]
        },
        {
          "output_type": "execute_result",
          "data": {
            "text/plain": [
              "[1.4464306831359863, 0.48739999532699585]"
            ]
          },
          "metadata": {},
          "execution_count": 20
        }
      ]
    },
    {
      "cell_type": "code",
      "source": [
        "### Prediction using Model\n",
        "\n",
        "CLASSES = np.array(['airplane', 'automobile', 'bird', 'cat', 'deer', 'dog', 'frog', 'horse', 'ship', 'truck'])\n",
        "\n",
        "y_pred = model.predict(x_test)\n",
        "y_pred = np.argmax(y_pred, axis=1)\n",
        "y_true = np.argmax(y_test, axis=1)"
      ],
      "metadata": {
        "colab": {
          "base_uri": "https://localhost:8080/"
        },
        "id": "AZQOLctKTZEG",
        "outputId": "1217152e-a4ca-4482-891e-01632859f1dc"
      },
      "execution_count": 21,
      "outputs": [
        {
          "output_type": "stream",
          "name": "stdout",
          "text": [
            "313/313 [==============================] - 1s 3ms/step\n"
          ]
        }
      ]
    },
    {
      "cell_type": "code",
      "source": [
        "### Show the resuls\n",
        "import matplotlib.pyplot as plt\n"
      ],
      "metadata": {
        "id": "Cv_RQXwaUh6K"
      },
      "execution_count": 22,
      "outputs": []
    },
    {
      "cell_type": "code",
      "source": [
        "### CNN - building CNN models in Keras ##"
      ],
      "metadata": {
        "id": "gMOPmyouUtMK"
      },
      "execution_count": null,
      "outputs": []
    }
  ]
}